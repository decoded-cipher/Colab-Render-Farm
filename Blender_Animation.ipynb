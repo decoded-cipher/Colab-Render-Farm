{
  "nbformat": 4,
  "nbformat_minor": 0,
  "metadata": {
    "colab": {
      "name": "Blender_Animation.ipynb",
      "provenance": []
    },
    "kernelspec": {
      "name": "python3",
      "display_name": "Python 3"
    },
    "language_info": {
      "name": "python"
    }
  },
  "cells": [
    {
      "cell_type": "code",
      "metadata": {
        "id": "fnWsJWJoJn14"
      },
      "source": [
        "#Download Blender from Repository\n",
        "!wget https://download.blender.org/release/Blender2.91/blender-2.91.0-linux64.tar.xz"
      ],
      "execution_count": null,
      "outputs": []
    },
    {
      "cell_type": "code",
      "metadata": {
        "id": "Atn-yNMAJsrC"
      },
      "source": [
        "#Install Blender \n",
        "!tar xf blender-2.91.0-linux64.tar.xz"
      ],
      "execution_count": null,
      "outputs": []
    },
    {
      "cell_type": "code",
      "metadata": {
        "id": "eEhhgVeFJxeu"
      },
      "source": [
        "#Connect Google Drive\n",
        "from google.colab import drive\n",
        "drive.mount('/gdrive')"
      ],
      "execution_count": null,
      "outputs": []
    },
    {
      "cell_type": "code",
      "metadata": {
        "id": "iHHwhankMJTL"
      },
      "source": [
        "#Set Paths to Blender Files\n",
        "filename = '/gdrive/MyDrive/Blender/ABC.blend'\n",
        "#filename2 = '/gdrive/MyDrive/GlassOrb2/GlassOrb.blend'"
      ],
      "execution_count": null,
      "outputs": []
    },
    {
      "cell_type": "code",
      "metadata": {
        "id": "ktQGP2wrMAYw"
      },
      "source": [
        "#Render an Animation\n",
        "!sudo ./blender-2.91.0-linux64/blender -b $filename -noaudio -E 'CYCLES' -o '//image_####' -s 1 -e 125 -a -- --cycles-device OPTIX\n",
        "#Render a Still Frame\n",
        "#!sudo ./blender-2.91.0-linux64/blender -b $filename2 -noaudio -E 'CYCLES' -o '/gdrive/MyDrive/Blender/ABC' -f 1 -F 'PNG' -- --cycles-device OPTIX"
      ],
      "execution_count": null,
      "outputs": []
    }
  ]
}